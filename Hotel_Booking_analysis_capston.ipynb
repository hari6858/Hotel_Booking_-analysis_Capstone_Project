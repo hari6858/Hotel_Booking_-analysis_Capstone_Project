{
  "nbformat": 4,
  "nbformat_minor": 0,
  "metadata": {
    "colab": {
      "private_outputs": true,
      "provenance": [],
      "collapsed_sections": [
        "w6K7xa23Elo4",
        "bKJF3rekwFvQ",
        "MSa1f5Uengrz",
        "gIfDvo9L0UH2"
      ],
      "include_colab_link": true
    },
    "kernelspec": {
      "name": "python3",
      "display_name": "Python 3"
    },
    "language_info": {
      "name": "python"
    }
  },
  "cells": [
    {
      "cell_type": "markdown",
      "metadata": {
        "id": "view-in-github",
        "colab_type": "text"
      },
      "source": [
        "<a href=\"https://colab.research.google.com/github/hari6858/Hotel_Booking_-analysis_Capstone_Project/blob/main/Hotel_Booking_analysis_capston.ipynb\" target=\"_parent\"><img src=\"https://colab.research.google.com/assets/colab-badge.svg\" alt=\"Open In Colab\"/></a>"
      ]
    },
    {
      "cell_type": "markdown",
      "source": [
        "# **Project Name**    -\n",
        "\n"
      ],
      "metadata": {
        "id": "vncDsAP0Gaoa"
      }
    },
    {
      "cell_type": "markdown",
      "source": [
        "##### **Project Type**    - EDA Capstone Project\n",
        "##### **Contribution**    - Individual"
      ],
      "metadata": {
        "id": "beRrZCGUAJYm"
      }
    },
    {
      "cell_type": "markdown",
      "source": [
        "# **Project Summary -**"
      ],
      "metadata": {
        "id": "FJNUwmbgGyua"
      }
    },
    {
      "cell_type": "markdown",
      "source": [
        "Write the summary here within 500-600 words."
      ],
      "metadata": {
        "id": "F6v_1wHtG2nS"
      }
    },
    {
      "cell_type": "markdown",
      "source": [
        "The project aims to provide a comprehensive analysis of hotel booking data and leverage predictive modeling techniques to enhance hotel revenue management and customer satisfaction."
      ],
      "metadata": {
        "id": "bryG6XUIMOop"
      }
    },
    {
      "cell_type": "markdown",
      "source": [
        "# **GitHub Link -**"
      ],
      "metadata": {
        "id": "w6K7xa23Elo4"
      }
    },
    {
      "cell_type": "markdown",
      "source": [
        "Provide your GitHub Link here."
      ],
      "metadata": {
        "id": "h1o69JH3Eqqn"
      }
    },
    {
      "cell_type": "markdown",
      "source": [
        "# **Problem Statement**\n"
      ],
      "metadata": {
        "id": "yQaldy8SH6Dl"
      }
    },
    {
      "cell_type": "markdown",
      "source": [
        "**Write Problem Statement Here.**"
      ],
      "metadata": {
        "id": "DpeJGUA3kjGy"
      }
    },
    {
      "cell_type": "markdown",
      "source": [
        "Hotel booking cancellations are a significant issue that can negatively impact revenue and operational efficiency.  The goal of this project is to build a model that can accurately predict the likelihood of a booking cancellation based on various factors, such as lead time, booking details, customer information, and hotel features.\n"
      ],
      "metadata": {
        "id": "0YqVVC6OMJHj"
      }
    },
    {
      "cell_type": "markdown",
      "source": [
        "#### **Define Your Business Objective?**"
      ],
      "metadata": {
        "id": "PH-0ReGfmX4f"
      }
    },
    {
      "cell_type": "markdown",
      "source": [
        "Answer Here."
      ],
      "metadata": {
        "id": "PhDvGCAqmjP1"
      }
    },
    {
      "cell_type": "markdown",
      "source": [
        "To increase customer retention by 10% within the next quarter by implementing targeted marketing campaigns based on customer segmentation and also Increase customer retention rate by X% within Y timeframe."
      ],
      "metadata": {
        "id": "k0uboGU3eqpJ"
      }
    },
    {
      "cell_type": "markdown",
      "source": [
        "# ***Let's Begin !***"
      ],
      "metadata": {
        "id": "O_i_v8NEhb9l"
      }
    },
    {
      "cell_type": "markdown",
      "source": [
        "## ***1. Know Your Data***"
      ],
      "metadata": {
        "id": "HhfV-JJviCcP"
      }
    },
    {
      "cell_type": "markdown",
      "source": [
        "### Import Libraries"
      ],
      "metadata": {
        "id": "Y3lxredqlCYt"
      }
    },
    {
      "cell_type": "code",
      "source": [
        "# Import Libraries\n",
        "import pandas as pd\n",
        "import numpy as np\n",
        "import matplotlib.pyplot as plt\n",
        "import seaborn as sns\n",
        "!pip install openpyxl"
      ],
      "metadata": {
        "id": "M8Vqi-pPk-HR"
      },
      "execution_count": null,
      "outputs": []
    },
    {
      "cell_type": "code",
      "source": [
        "from google.colab import drive\n",
        "drive.mount('/content/drive')"
      ],
      "metadata": {
        "id": "ZOwHggKrBVid"
      },
      "execution_count": null,
      "outputs": []
    },
    {
      "cell_type": "markdown",
      "source": [
        "### Dataset Loading"
      ],
      "metadata": {
        "id": "3RnN4peoiCZX"
      }
    },
    {
      "cell_type": "code",
      "source": [
        "# Load Dataset\n",
        "!pip install openpyxl\n",
        "df =pd.read_excel('/content/drive/MyDrive/Colab Notebooks/Hotel_Bookings.xlsx')"
      ],
      "metadata": {
        "id": "4CkvbW_SlZ_R"
      },
      "execution_count": null,
      "outputs": []
    },
    {
      "cell_type": "markdown",
      "source": [
        "### Dataset First View"
      ],
      "metadata": {
        "id": "x71ZqKXriCWQ"
      }
    },
    {
      "cell_type": "code",
      "source": [
        "# Dataset First Look\n",
        "df.head()"
      ],
      "metadata": {
        "id": "LWNFOSvLl09H"
      },
      "execution_count": null,
      "outputs": []
    },
    {
      "cell_type": "markdown",
      "source": [
        "### Dataset Rows & Columns count"
      ],
      "metadata": {
        "id": "7hBIi_osiCS2"
      }
    },
    {
      "cell_type": "code",
      "source": [
        "# Dataset Rows & Columns count\n",
        "df.shape"
      ],
      "metadata": {
        "id": "Kllu7SJgmLij"
      },
      "execution_count": null,
      "outputs": []
    },
    {
      "cell_type": "markdown",
      "source": [
        "### Dataset Information"
      ],
      "metadata": {
        "id": "JlHwYmJAmNHm"
      }
    },
    {
      "cell_type": "code",
      "source": [
        "# Dataset Info\n",
        "df.info()"
      ],
      "metadata": {
        "id": "e9hRXRi6meOf"
      },
      "execution_count": null,
      "outputs": []
    },
    {
      "cell_type": "markdown",
      "source": [
        "#### Duplicate Values"
      ],
      "metadata": {
        "id": "35m5QtbWiB9F"
      }
    },
    {
      "cell_type": "code",
      "source": [
        "# Dataset Duplicate Value Count\n",
        "df.duplicated().sum()"
      ],
      "metadata": {
        "id": "1sLdpKYkmox0"
      },
      "execution_count": null,
      "outputs": []
    },
    {
      "cell_type": "code",
      "source": [
        "df.drop_duplicates(inplace=True)"
      ],
      "metadata": {
        "id": "iz_XkKYZrC1z"
      },
      "execution_count": null,
      "outputs": []
    },
    {
      "cell_type": "code",
      "source": [
        "df.duplicated().sum()"
      ],
      "metadata": {
        "id": "OCDuAhbCrEor"
      },
      "execution_count": null,
      "outputs": []
    },
    {
      "cell_type": "code",
      "source": [
        "df.shape"
      ],
      "metadata": {
        "id": "Zo1KoXYhrHSQ"
      },
      "execution_count": null,
      "outputs": []
    },
    {
      "cell_type": "markdown",
      "source": [
        "#### Missing Values/Null Values"
      ],
      "metadata": {
        "id": "PoPl-ycgm1ru"
      }
    },
    {
      "cell_type": "code",
      "source": [
        "df.isnull().sum()"
      ],
      "metadata": {
        "id": "aQiSoMpUr7Ny"
      },
      "execution_count": null,
      "outputs": []
    },
    {
      "cell_type": "code",
      "source": [
        "df.drop(['agent','company'],axis=1,inplace=True)"
      ],
      "metadata": {
        "id": "Y1lyBF2x38tG"
      },
      "execution_count": null,
      "outputs": []
    },
    {
      "cell_type": "code",
      "source": [
        "df.isnull().sum()"
      ],
      "metadata": {
        "id": "-oZt-pXP4Gne"
      },
      "execution_count": null,
      "outputs": []
    },
    {
      "cell_type": "code",
      "source": [
        "df.drop(['children','country'],axis=1,inplace=True)\n"
      ],
      "metadata": {
        "id": "4RRc5NCMzUDi"
      },
      "execution_count": null,
      "outputs": []
    },
    {
      "cell_type": "code",
      "source": [
        "df.isnull().sum()"
      ],
      "metadata": {
        "id": "GvqHscQoze9y"
      },
      "execution_count": null,
      "outputs": []
    },
    {
      "cell_type": "code",
      "source": [
        "# Visualizing the missing values\n",
        "plt.figure(figsize=(10, 6))\n",
        "sns.heatmap(df.isnull(), cbar=False, cmap= 'coolwarm')\n",
        "plt.show()"
      ],
      "metadata": {
        "id": "EChLS_umuYn1"
      },
      "execution_count": null,
      "outputs": []
    },
    {
      "cell_type": "markdown",
      "source": [
        "### What did you know about your dataset?"
      ],
      "metadata": {
        "id": "H0kj-8xxnORC"
      }
    },
    {
      "cell_type": "markdown",
      "source": [
        "Answer Here"
      ],
      "metadata": {
        "id": "gfoNAAC-nUe_"
      }
    },
    {
      "cell_type": "markdown",
      "source": [
        "1.  **It's a Hotel Booking Dataset:** The file path suggests it's related to hotel bookings.\n",
        "2.  **It's an Excel file:** It's loaded using `pd.read_excel`.\n",
        "3.  **It has a significant number of rows and columns:**  `df.shape` provides the dimensions.\n",
        "4.  **It has missing values (NaN):**  `df.isnull().sum()` shows missing values for some columns, particularly 'agent', 'company', 'children', 'country'\n",
        "5.  **Duplicate rows were present:** `df.duplicated().sum()` reveals duplicate rows, which were subsequently removed.\n",
        "6.  **Certain columns were dropped:** 'agent', 'company', 'children' and 'country' were removed because of missing values or irrelevance to the analysis."
      ],
      "metadata": {
        "id": "zkdg--2HeQ8G"
      }
    },
    {
      "cell_type": "markdown",
      "source": [
        "## ***2. Understanding Your Variables***"
      ],
      "metadata": {
        "id": "nA9Y7ga8ng1Z"
      }
    },
    {
      "cell_type": "code",
      "source": [
        "# Dataset Columns\n",
        "df.columns"
      ],
      "metadata": {
        "id": "j7xfkqrt5Ag5"
      },
      "execution_count": null,
      "outputs": []
    },
    {
      "cell_type": "code",
      "source": [
        "df=df.rename(columns={'adr':'average_daily_rate'})"
      ],
      "metadata": {
        "id": "ugHo3fdV6cJ9"
      },
      "execution_count": null,
      "outputs": []
    },
    {
      "cell_type": "code",
      "source": [
        "df = df.rename(columns={'stays_in_weekend_nights': 'weekend_nights', 'stays_in_week_nights': 'week_nights'})\n",
        "df = df.rename(columns={'required_car_parking_spaces': 'parking_spaces'})\n",
        "df = df.rename(columns={'is_canceled': 'canceled', 'is_repeated_guest': 'repeated_guest'})"
      ],
      "metadata": {
        "id": "RCkPZRwj6lWY"
      },
      "execution_count": null,
      "outputs": []
    },
    {
      "cell_type": "code",
      "source": [
        "df.columns\n"
      ],
      "metadata": {
        "id": "IKLQ-kv367qr"
      },
      "execution_count": null,
      "outputs": []
    },
    {
      "cell_type": "code",
      "source": [
        "df = df.rename(columns={'total_of_special_requests': 'special_requests'})\n",
        "df = df.rename(columns={'reservation_status_date': 'status_date'})\n",
        "df = df.rename(columns={'reservation_status': 'status'})\n",
        "df = df.rename(columns={'arrival_date_year': 'year'})\n",
        "df = df.rename(columns={'arrival_date_month': 'month'})\n",
        "df = df.rename(columns={'arrival_date_week_number': 'week_number'})\n",
        "df = df.rename(columns={'arrival_date_day_of_month': 'day'})\n",
        "df = df.rename(columns={'stays_in_weekend_nights': 'weekend_nights'})\n",
        "df = df.rename(columns={'stays_in_week_nights': 'week_nights'})\n",
        "df = df.rename(columns={'adults': 'adults'})\n",
        "df = df.rename(columns={'babies': 'babies'})\n",
        "df = df.rename(columns={'is_canceled': 'canceled'})\n",
        "df = df.rename(columns={'is_repeated_guest': 'repeated_guest'})"
      ],
      "metadata": {
        "id": "k120H1mW7JNI"
      },
      "execution_count": null,
      "outputs": []
    },
    {
      "cell_type": "code",
      "source": [
        "df.columns"
      ],
      "metadata": {
        "id": "jEqi6LQ57wJE"
      },
      "execution_count": null,
      "outputs": []
    },
    {
      "cell_type": "code",
      "source": [
        "df.shape\n"
      ],
      "metadata": {
        "id": "tILuK8NM8a1-"
      },
      "execution_count": null,
      "outputs": []
    },
    {
      "cell_type": "code",
      "source": [
        "# Total customer details:\n",
        "total_customers = len(df)\n",
        "print(\"Total number of customers:\", total_customers)"
      ],
      "metadata": {
        "id": "rcR93BO-8vao"
      },
      "execution_count": null,
      "outputs": []
    },
    {
      "cell_type": "code",
      "source": [
        "# Hotel types\n",
        "hotel_types = df['hotel'].unique()\n",
        "print(\"Hotel Types:\", hotel_types)"
      ],
      "metadata": {
        "id": "midqPqIn9PpI"
      },
      "execution_count": null,
      "outputs": []
    },
    {
      "cell_type": "code",
      "source": [
        "# Total customers based on Hotels:\n",
        "resort_hotel_customers = df[df['hotel'] == 'Resort Hotel']\n",
        "total_resort_hotel_customers = len(resort_hotel_customers)\n",
        "print(\"Total number of customers for Resort Hotel:\", total_resort_hotel_customers)\n",
        "city_hotel_customers = df[df['hotel'] == 'City Hotel']\n",
        "total_city_hotel_customers = len(city_hotel_customers)\n",
        "print(\"Total number of customers for City Hotel:\", total_resort_hotel_customers)"
      ],
      "metadata": {
        "id": "CDZB4dd39d8G"
      },
      "execution_count": null,
      "outputs": []
    },
    {
      "cell_type": "code",
      "source": [
        "total_adults = df['adults'].sum()\n",
        "print(\"Total number of adults:\", total_adults)\n",
        "total_babies = df['babies'].sum()\n",
        "print(\"Total number of babies:\", total_babies)"
      ],
      "metadata": {
        "id": "4EaCNP2V5bUI"
      },
      "execution_count": null,
      "outputs": []
    },
    {
      "cell_type": "code",
      "source": [
        "df.groupby('hotel')['adults'].sum()"
      ],
      "metadata": {
        "id": "3tLaRMUD8ZPh"
      },
      "execution_count": null,
      "outputs": []
    },
    {
      "cell_type": "code",
      "source": [
        "df.groupby('hotel')['babies'].sum()"
      ],
      "metadata": {
        "id": "Qg0Al8N_8jHV"
      },
      "execution_count": null,
      "outputs": []
    },
    {
      "cell_type": "code",
      "source": [
        "df.groupby('hotel')['canceled'].sum()"
      ],
      "metadata": {
        "id": "WbLEwQiX8lr4"
      },
      "execution_count": null,
      "outputs": []
    },
    {
      "cell_type": "code",
      "source": [
        "df.groupby('hotel')['repeated_guest'].sum()"
      ],
      "metadata": {
        "id": "EC0w5YZe9P_n"
      },
      "execution_count": null,
      "outputs": []
    },
    {
      "cell_type": "code",
      "source": [
        "# status_date to datetime objects\n",
        "df['status_date'] = pd.to_datetime(df['status_date'])"
      ],
      "metadata": {
        "id": "KyUu4uldByQW"
      },
      "execution_count": null,
      "outputs": []
    },
    {
      "cell_type": "code",
      "source": [
        "# Extract year, month, and day from 'status_date'\n",
        "df['status_year'] = df['status_date'].dt.year\n",
        "df['status_month'] = df['status_date'].dt.month\n",
        "df['status_day'] = df['status_date'].dt.day"
      ],
      "metadata": {
        "id": "nQ6YW2StCM0J"
      },
      "execution_count": null,
      "outputs": []
    },
    {
      "cell_type": "code",
      "source": [
        "df['month'].value_counts()\n",
        "df['year'].value_counts()\n",
        "df['status'].value_counts()\n",
        "\n"
      ],
      "metadata": {
        "id": "i5WPYpItDCFs"
      },
      "execution_count": null,
      "outputs": []
    },
    {
      "cell_type": "code",
      "source": [
        "df.sort_index(inplace=True)"
      ],
      "metadata": {
        "id": "cMxbpEynDSby"
      },
      "execution_count": null,
      "outputs": []
    },
    {
      "cell_type": "code",
      "source": [
        "df.groupby(['month', 'day', 'year'])['status'].value_counts()"
      ],
      "metadata": {
        "id": "xq3uWTgNDjfN"
      },
      "execution_count": null,
      "outputs": []
    },
    {
      "cell_type": "code",
      "source": [
        "# Average price per month :\n",
        "avg_price_per_month = df.groupby('month')['average_daily_rate'].mean()\n",
        "rounded_avg_price_per_month = avg_price_per_month.round(2)\n",
        "print(rounded_avg_price_per_month)"
      ],
      "metadata": {
        "id": "XHAqROYwGv6I"
      },
      "execution_count": null,
      "outputs": []
    },
    {
      "cell_type": "code",
      "source": [
        "average_income_by_hotel = df.groupby('hotel')['average_daily_rate'].mean()\n",
        "rounded_average_income_by_hotel = average_income_by_hotel.round(2)\n",
        "print (rounded_average_income_by_hotel)"
      ],
      "metadata": {
        "id": "G7qhl_iBHghz"
      },
      "execution_count": null,
      "outputs": []
    },
    {
      "cell_type": "code",
      "source": [
        "# Dataset Describe\n",
        "df.describe()"
      ],
      "metadata": {
        "id": "DnOaZdaE5Q5t"
      },
      "execution_count": null,
      "outputs": []
    },
    {
      "cell_type": "code",
      "source": [
        "df.columns"
      ],
      "metadata": {
        "id": "TZo8Fd863kf5"
      },
      "execution_count": null,
      "outputs": []
    },
    {
      "cell_type": "markdown",
      "source": [
        "### Variables Description"
      ],
      "metadata": {
        "id": "PBTbrJXOngz2"
      }
    },
    {
      "cell_type": "markdown",
      "source": [
        "Answer Here"
      ],
      "metadata": {
        "id": "aJV4KIxSnxay"
      }
    },
    {
      "cell_type": "markdown",
      "source": [
        "### Check Unique Values for each variable."
      ],
      "metadata": {
        "id": "u3PMJOP6ngxN"
      }
    },
    {
      "cell_type": "code",
      "source": [
        "# Check Unique Values for each variable.\n",
        "df.nunique()"
      ],
      "metadata": {
        "id": "zms12Yq5n-jE"
      },
      "execution_count": null,
      "outputs": []
    },
    {
      "cell_type": "markdown",
      "source": [
        "## 3. ***Data Wrangling***"
      ],
      "metadata": {
        "id": "dauF4eBmngu3"
      }
    },
    {
      "cell_type": "markdown",
      "source": [
        "### Data Wrangling Code"
      ],
      "metadata": {
        "id": "bKJF3rekwFvQ"
      }
    },
    {
      "cell_type": "code",
      "source": [
        "# Write your code to make your dataset analysis ready."
      ],
      "metadata": {
        "id": "wk-9a2fpoLcV"
      },
      "execution_count": null,
      "outputs": []
    },
    {
      "cell_type": "markdown",
      "source": [
        "### What all manipulations have you done and insights you found?"
      ],
      "metadata": {
        "id": "MSa1f5Uengrz"
      }
    },
    {
      "cell_type": "markdown",
      "source": [
        "Answer Here."
      ],
      "metadata": {
        "id": "LbyXE7I1olp8"
      }
    },
    {
      "cell_type": "markdown",
      "source": [
        "## ***4. Data Vizualization, Storytelling & Experimenting with charts : Understand the relationships between variables***"
      ],
      "metadata": {
        "id": "GF8Ens_Soomf"
      }
    },
    {
      "cell_type": "markdown",
      "source": [
        "#### Chart - 1"
      ],
      "metadata": {
        "id": "0wOQAZs5pc--"
      }
    },
    {
      "cell_type": "code",
      "source": [
        "# Chart - 1 visualization code\n",
        "plt.figure(figsize=(8, 4))\n",
        "sns.countplot(x='hotel', data=df, palette='coolwarm')\n",
        "plt.title('Number of Bookings per Hotel Type')\n",
        "plt.xlabel('Hotel Type')\n",
        "plt.ylabel('Number of Bookings')\n",
        "plt.show()"
      ],
      "metadata": {
        "id": "7v_ESjsspbW7"
      },
      "execution_count": null,
      "outputs": []
    },
    {
      "cell_type": "markdown",
      "source": [
        "##### 1. Why did you pick the specific chart?"
      ],
      "metadata": {
        "id": "K5QZ13OEpz2H"
      }
    },
    {
      "cell_type": "markdown",
      "source": [
        "Answer Here."
      ],
      "metadata": {
        "id": "XESiWehPqBRc"
      }
    },
    {
      "cell_type": "markdown",
      "source": [
        "A countplot (or bar chart) is an excellent choice for visualizing the distribution of categorical data. In this case, we want to understand the frequency of each hotel type (City Hotel or Resort Hotel) in the dataset. A countplot effectively shows the number of bookings made for each hotel type, making it easy to compare their relative popularity.\n"
      ],
      "metadata": {
        "id": "LlV3kdTtbvIS"
      }
    },
    {
      "cell_type": "markdown",
      "source": [
        "##### 2. What is/are the insight(s) found from the chart?"
      ],
      "metadata": {
        "id": "lQ7QKXXCp7Bj"
      }
    },
    {
      "cell_type": "markdown",
      "source": [
        "Answer Here"
      ],
      "metadata": {
        "id": "C_j1G7yiqdRP"
      }
    },
    {
      "cell_type": "markdown",
      "source": [
        "The chart reveals that City Hotel has a significantly higher number of bookings compared to Resort Hotel. This insight suggests that City Hotels are more frequently chosen or booked by customers compared to Resort Hotels. This could be due to several factors like pricing, location, or the target customer segment for each type of hotel.\n"
      ],
      "metadata": {
        "id": "0E2rHxtSb2cL"
      }
    },
    {
      "cell_type": "markdown",
      "source": [
        "##### 3. Will the gained insights help creating a positive business impact?\n",
        "Are there any insights that lead to negative growth? Justify with specific reason."
      ],
      "metadata": {
        "id": "448CDAPjqfQr"
      }
    },
    {
      "cell_type": "markdown",
      "source": [
        "Answer Here"
      ],
      "metadata": {
        "id": "3cspy4FjqxJW"
      }
    },
    {
      "cell_type": "markdown",
      "source": [
        "**Potential Negative Growth Insights:**\n",
        "\n",
        " High cancellation rates during certain months could lead to reduced revenue and occupancy.\n",
        "If specific customer types consistently have lower average daily rates, it might indicate a need to adjust pricing strategies for that segment.\n",
        "\n",
        "**Positive Business Impacts:**\n",
        "\n",
        "Understanding the relationship between customer type and average daily rate can help with targeted marketing efforts and pricing strategies.\n",
        "Identifying the most popular months for bookings can help with resource allocation and staffing.\n",
        "\n"
      ],
      "metadata": {
        "id": "Q5toA3amcXBI"
      }
    },
    {
      "cell_type": "markdown",
      "source": [
        "#### Chart - 2"
      ],
      "metadata": {
        "id": "KSlN3yHqYklG"
      }
    },
    {
      "cell_type": "code",
      "source": [
        "# Chart - 2 visualization code\n",
        "# Total customers based on Hotels:\n",
        "hotel_bookings = df.groupby('hotel')['hotel'].count()\n",
        "hotel_bookings.plot(kind='bar', color=['skyblue', 'lightcoral'])\n",
        "plt.title('Total Customers Based on Hotels')\n",
        "plt.xlabel('Hotel Type')\n",
        "plt.ylabel('Number of Bookings')\n",
        "plt.show()"
      ],
      "metadata": {
        "id": "ONHVxJklQ6La"
      },
      "execution_count": null,
      "outputs": []
    },
    {
      "cell_type": "markdown",
      "source": [
        "##### 1. Why did you pick the specific chart?"
      ],
      "metadata": {
        "id": "t6dVpIINYklI"
      }
    },
    {
      "cell_type": "markdown",
      "source": [
        "Answer Here."
      ],
      "metadata": {
        "id": "5aaW0BYyYklI"
      }
    },
    {
      "cell_type": "markdown",
      "source": [
        "I chose a bar chart to visualize the total number of customers for each hotel type because it effectively compares the booking counts between the two categories (Resort Hotel and City Hotel)."
      ],
      "metadata": {
        "id": "cZDv8Xpya-h2"
      }
    },
    {
      "cell_type": "markdown",
      "source": [
        "##### 2. What is/are the insight(s) found from the chart?"
      ],
      "metadata": {
        "id": "ijmpgYnKYklI"
      }
    },
    {
      "cell_type": "markdown",
      "source": [
        "Answer Here"
      ],
      "metadata": {
        "id": "PSx9atu2YklI"
      }
    },
    {
      "cell_type": "markdown",
      "source": [
        "The chart reveals that the City Hotel has a significantly higher number of bookings compared to the Resort Hotel."
      ],
      "metadata": {
        "id": "JX7nRBstbC8N"
      }
    },
    {
      "cell_type": "markdown",
      "source": [
        "##### 3. Will the gained insights help creating a positive business impact?\n",
        "Are there any insights that lead to negative growth? Justify with specific reason."
      ],
      "metadata": {
        "id": "-JiQyfWJYklI"
      }
    },
    {
      "cell_type": "markdown",
      "source": [
        "Answer Here"
      ],
      "metadata": {
        "id": "BcBbebzrYklV"
      }
    },
    {
      "cell_type": "markdown",
      "source": [
        "Yes, the insights can definitely help create a positive business impact. The higher booking volume in City Hotels can inform marketing strategies. For instance, specific promotional campaigns or targeted advertising could be focused on attracting more customers to the Resort Hotels to balance the booking numbers and potentially increase revenue from this segment."
      ],
      "metadata": {
        "id": "WYUQn8EObQjv"
      }
    },
    {
      "cell_type": "markdown",
      "source": [
        "#### Chart - 3"
      ],
      "metadata": {
        "id": "EM7whBJCYoAo"
      }
    },
    {
      "cell_type": "code",
      "source": [
        "# Chart - 3 visualization code\n",
        "# Reservation Status Over Time\n",
        "df.groupby(['month', 'day', 'year'])['status'].value_counts()\n",
        "\n",
        "\n"
      ],
      "metadata": {
        "id": "t6GMdE67YoAp"
      },
      "execution_count": null,
      "outputs": []
    },
    {
      "cell_type": "code",
      "source": [
        "plt.figure(figsize=(12, 6))\n",
        "sns.countplot(x='month', data=df, hue ='status')\n",
        "plt.title('Booking Status by Month')\n",
        "plt.xlabel('Month')\n",
        "plt.ylabel('Number of Bookings')\n",
        "plt.show()"
      ],
      "metadata": {
        "id": "PWDNlH7t84ou"
      },
      "execution_count": null,
      "outputs": []
    },
    {
      "cell_type": "markdown",
      "source": [
        "##### 1. Why did you pick the specific chart?"
      ],
      "metadata": {
        "id": "fge-S5ZAYoAp"
      }
    },
    {
      "cell_type": "markdown",
      "source": [
        "Answer Here."
      ],
      "metadata": {
        "id": "5dBItgRVYoAp"
      }
    },
    {
      "cell_type": "markdown",
      "source": [
        "I picked a countplot to visualize the distribution of booking status across different months."
      ],
      "metadata": {
        "id": "OX6ol7q1aMsr"
      }
    },
    {
      "cell_type": "markdown",
      "source": [
        "##### 2. What is/are the insight(s) found from the chart?"
      ],
      "metadata": {
        "id": "85gYPyotYoAp"
      }
    },
    {
      "cell_type": "markdown",
      "source": [
        "Answer Here"
      ],
      "metadata": {
        "id": "4jstXR6OYoAp"
      }
    },
    {
      "cell_type": "markdown",
      "source": [
        "The insights from this chart depend on the specific data and patterns observed. However, some possible insights could include:\n",
        "\n",
        "**Seasonal trends: **There might be certain months with a higher number of bookings or cancellations, indicating a seasonal pattern.\n",
        "\n",
        "**Relationship between month and booking status:**  We can observe if certain months have a higher rate of cancellations compared to others.\n"
      ],
      "metadata": {
        "id": "_t9Rv_UhaP7m"
      }
    },
    {
      "cell_type": "markdown",
      "source": [
        "##### 3. Will the gained insights help creating a positive business impact?\n",
        "Are there any insights that lead to negative growth? Justify with specific reason."
      ],
      "metadata": {
        "id": "RoGjAbkUYoAp"
      }
    },
    {
      "cell_type": "markdown",
      "source": [
        "Answer Here"
      ],
      "metadata": {
        "id": "zfJ8IqMcYoAp"
      }
    },
    {
      "cell_type": "markdown",
      "source": [
        "Yes, the gained insights can potentially have a positive business impact.It's important to analyze the chart in detail, considering different aspects like the specific booking status, the magnitude of variations, and potential underlying reasons for them, to derive actionable insights that can optimize business operations and improve profitability."
      ],
      "metadata": {
        "id": "UUAzJfgsaqs9"
      }
    },
    {
      "cell_type": "markdown",
      "source": [
        "#### Chart - 4"
      ],
      "metadata": {
        "id": "4Of9eVA-YrdM"
      }
    },
    {
      "cell_type": "code",
      "source": [
        "# Chart - 4 visualization code\n",
        "# Monthly_Income_by_Hotel_Type\n",
        "plt.figure(figsize=(12, 6))\n",
        "sns.barplot(x='month', y='average_daily_rate', data=df, palette='coolwarm')\n",
        "plt.title('Monthly Income by Hotel Type')\n",
        "plt.xlabel('Hotel Type')\n",
        "plt.ylabel('Average Daily Rate')\n",
        "plt.show()"
      ],
      "metadata": {
        "id": "irlUoxc8YrdO"
      },
      "execution_count": null,
      "outputs": []
    },
    {
      "cell_type": "markdown",
      "source": [
        "##### 1. Why did you pick the specific chart?"
      ],
      "metadata": {
        "id": "iky9q4vBYrdO"
      }
    },
    {
      "cell_type": "markdown",
      "source": [
        "Answer Here."
      ],
      "metadata": {
        "id": "aJRCwT6DYrdO"
      }
    },
    {
      "cell_type": "markdown",
      "source": [
        "I chose a bar chart to visualize the monthly average daily rate because it effectively shows the comparison of average income across different months. Bar charts are great for displaying categorical data (months) and their corresponding numerical values (average daily rate).\n"
      ],
      "metadata": {
        "id": "X99JqOwmZbbn"
      }
    },
    {
      "cell_type": "markdown",
      "source": [
        "##### 2. What is/are the insight(s) found from the chart?"
      ],
      "metadata": {
        "id": "F6T5p64dYrdO"
      }
    },
    {
      "cell_type": "markdown",
      "source": [
        "Answer Here"
      ],
      "metadata": {
        "id": "Xx8WAJvtYrdO"
      }
    },
    {
      "cell_type": "markdown",
      "source": [
        "Yes, the insights gained can definitely help create a positive business impact.Dynamic Pricing used to Understand seasonal trends allows the business to implement dynamic pricing strategies, charging higher rates during peak seasons and potentially offering discounts during low seasons to attract more customers."
      ],
      "metadata": {
        "id": "SQQ_MCXMZvrx"
      }
    },
    {
      "cell_type": "markdown",
      "source": [
        "The chart can reveal insights like:\n",
        "\n",
        "**Seasonal Trends:** We can observe if there are specific months with higher or lower average daily rates, which indicates seasonal variations in demand and pricing.\n",
        "\n",
        "**Peak Months:** Identifying months with the highest average daily rate can highlight peak seasons for the business.\n",
        "\n",
        "**Overall Revenue Trend:** The chart can give a general idea of the overall revenue trend over the year.\n"
      ],
      "metadata": {
        "id": "Cy7s4rY5ZgAU"
      }
    },
    {
      "cell_type": "markdown",
      "source": [
        "##### 3. Will the gained insights help creating a positive business impact?\n",
        "Are there any insights that lead to negative growth? Justify with specific reason."
      ],
      "metadata": {
        "id": "y-Ehk30pYrdP"
      }
    },
    {
      "cell_type": "markdown",
      "source": [
        "Answer Here"
      ],
      "metadata": {
        "id": "jLNxxz7MYrdP"
      }
    },
    {
      "cell_type": "markdown",
      "source": [
        "Yes, the insights gained can definitely help create a positive business impact.Dynamic Pricing used to Understand seasonal trends allows the business to implement dynamic pricing strategies, charging higher rates during peak seasons and potentially offering discounts during low seasons to attract more customers."
      ],
      "metadata": {
        "id": "5HDeDjWDZ65k"
      }
    },
    {
      "cell_type": "markdown",
      "source": [
        "#### Chart - 5"
      ],
      "metadata": {
        "id": "bamQiAODYuh1"
      }
    },
    {
      "cell_type": "code",
      "source": [
        "# Chart - 5 visualization code\n",
        "average_income_by_hotel = df.groupby('hotel')['average_daily_rate'].mean()\n",
        "sns.lineplot(x=average_income_by_hotel.index, y=average_income_by_hotel.values, marker='o')\n",
        "plt.title('Average Income by Hotel Type')\n",
        "plt.xlabel('Hotel Type')\n",
        "plt.ylabel('Average Daily Rate')\n"
      ],
      "metadata": {
        "id": "TIJwrbroYuh3"
      },
      "execution_count": null,
      "outputs": []
    },
    {
      "cell_type": "markdown",
      "source": [
        "##### 1. Why did you pick the specific chart?"
      ],
      "metadata": {
        "id": "QHF8YVU7Yuh3"
      }
    },
    {
      "cell_type": "markdown",
      "source": [
        "Answer Here."
      ],
      "metadata": {
        "id": "dcxuIMRPYuh3"
      }
    },
    {
      "cell_type": "markdown",
      "source": [
        "I chose a line plot to visualize the average income by hotel type because it effectively displays the relationship between the hotel type and the average daily rate. It allows us to compare the average income for different hotel types easily and identify any trends or patterns."
      ],
      "metadata": {
        "id": "w8__eb_rZGMA"
      }
    },
    {
      "cell_type": "markdown",
      "source": [
        "##### 2. What is/are the insight(s) found from the chart?"
      ],
      "metadata": {
        "id": "GwzvFGzlYuh3"
      }
    },
    {
      "cell_type": "markdown",
      "source": [
        "Answer Here"
      ],
      "metadata": {
        "id": "uyqkiB8YYuh3"
      }
    },
    {
      "cell_type": "markdown",
      "source": [
        "The insight that can be found from the chart is that City Hotels have higher average daily rate as compared to Resort Hotels."
      ],
      "metadata": {
        "id": "pt4MjjMwZK-v"
      }
    },
    {
      "cell_type": "markdown",
      "source": [
        "##### 3. Will the gained insights help creating a positive business impact?\n",
        "Are there any insights that lead to negative growth? Justify with specific reason."
      ],
      "metadata": {
        "id": "qYpmQ266Yuh3"
      }
    },
    {
      "cell_type": "markdown",
      "source": [
        "Answer Here"
      ],
      "metadata": {
        "id": "_WtzZ_hCYuh4"
      }
    },
    {
      "cell_type": "markdown",
      "source": [
        "Yes, the insights about different average daily rate for different hotel types can help in creating positive business impact. Business can create differentiated marketing strategies for different hotel types. They can implement pricing strategies that take into account the different income levels of the hotel types. Higher pricing strategy for City hotel can be implemented."
      ],
      "metadata": {
        "id": "wnujiL9wZOgJ"
      }
    },
    {
      "cell_type": "markdown",
      "source": [
        "#### Chart - 6"
      ],
      "metadata": {
        "id": "OH-pJp9IphqM"
      }
    },
    {
      "cell_type": "code",
      "source": [
        "# Chart - 6 visualization code\n",
        "# Meal counts based on Type\n",
        "plt.figure(figsize=(12, 6))\n",
        "sns.countplot(x='meal', data=df, palette=('coolwarm'))\n",
        "plt.title('Meal Counts based on Type')\n",
        "plt.xlabel('Meal Type')\n",
        "plt.ylabel('Number of Bookings')\n",
        "plt.show()\n"
      ],
      "metadata": {
        "id": "kuRf4wtuphqN"
      },
      "execution_count": null,
      "outputs": []
    },
    {
      "cell_type": "markdown",
      "source": [
        "##### 1. Why did you pick the specific chart?"
      ],
      "metadata": {
        "id": "bbFf2-_FphqN"
      }
    },
    {
      "cell_type": "markdown",
      "source": [
        "Answer Here."
      ],
      "metadata": {
        "id": "loh7H2nzphqN"
      }
    },
    {
      "cell_type": "markdown",
      "source": [
        "I picked a countplot to visualize the distribution of meal types within the dataset."
      ],
      "metadata": {
        "id": "lV1GPHFHVTCT"
      }
    },
    {
      "cell_type": "markdown",
      "source": [
        "##### 2. What is/are the insight(s) found from the chart?"
      ],
      "metadata": {
        "id": "_ouA3fa0phqN"
      }
    },
    {
      "cell_type": "markdown",
      "source": [
        "Answer Here"
      ],
      "metadata": {
        "id": "VECbqPI7phqN"
      }
    },
    {
      "cell_type": "markdown",
      "source": [
        "The chart reveals the number of bookings associated with each type of meal.  We can see which meal type is the most and least popular among the customers.\n"
      ],
      "metadata": {
        "id": "Iwy0F4qyVYst"
      }
    },
    {
      "cell_type": "markdown",
      "source": [
        "##### 3. Will the gained insights help creating a positive business impact?\n",
        "Are there any insights that lead to negative growth? Justify with specific reason."
      ],
      "metadata": {
        "id": "Seke61FWphqN"
      }
    },
    {
      "cell_type": "markdown",
      "source": [
        "Answer Here"
      ],
      "metadata": {
        "id": "DW4_bGpfphqN"
      }
    },
    {
      "cell_type": "markdown",
      "source": [
        "Yes, understanding which meal types are most popular can have a positive impact on business.It can help in , Better prediction of meal demand and optimize food purchase and\n",
        "Menu Planning to offer meals that align with customer preferences and maximize revenue.\n"
      ],
      "metadata": {
        "id": "JPjiGRGLVgS_"
      }
    },
    {
      "cell_type": "markdown",
      "source": [
        "#### Chart - 7"
      ],
      "metadata": {
        "id": "PIIx-8_IphqN"
      }
    },
    {
      "cell_type": "code",
      "source": [
        "# Chart - 7 visualization code\n",
        "# meal counts based on hotel\n",
        "plt.figure(figsize=(12, 6))\n",
        "sns.countplot(x='meal', data=df, hue='hotel')\n",
        "plt.title('Meal Counts Based on Hotel')\n",
        "plt.xlabel('Meal Type')\n",
        "plt.ylabel('Number of Bookings')\n",
        "plt.show()"
      ],
      "metadata": {
        "id": "lqAIGUfyphqO"
      },
      "execution_count": null,
      "outputs": []
    },
    {
      "cell_type": "markdown",
      "source": [
        "##### 1. Why did you pick the specific chart?"
      ],
      "metadata": {
        "id": "t27r6nlMphqO"
      }
    },
    {
      "cell_type": "markdown",
      "source": [
        "Answer Here."
      ],
      "metadata": {
        "id": "iv6ro40sphqO"
      }
    },
    {
      "cell_type": "markdown",
      "source": [
        "I chose a countplot to visualize the distribution of meal types across different hotels because it effectively shows the frequency of each meal type within each hotel category. This allows us to compare the popularity of different meals in both hotel types.\n"
      ],
      "metadata": {
        "id": "L8leDZKcUH3m"
      }
    },
    {
      "cell_type": "markdown",
      "source": [
        "##### 2. What is/are the insight(s) found from the chart?"
      ],
      "metadata": {
        "id": "r2jJGEOYphqO"
      }
    },
    {
      "cell_type": "markdown",
      "source": [
        "Answer Here"
      ],
      "metadata": {
        "id": "Po6ZPi4hphqO"
      }
    },
    {
      "cell_type": "markdown",
      "source": [
        "The chart reveals that the \"BB\"  meal type is the most popular across both hotel types, with a significant number of bookings associated with it. It indicates that many guests prefer the basic meal option during their stay, which could be due to cost or preference. Additionally, the chart helps to see the distribution of different meal types in each hotel type, allowing us to compare the popularity of meals in city hotels vs. resort hotels.\n"
      ],
      "metadata": {
        "id": "fAatJzjvULIB"
      }
    },
    {
      "cell_type": "markdown",
      "source": [
        "##### 3. Will the gained insights help creating a positive business impact?\n",
        "Are there any insights that lead to negative growth? Justify with specific reason."
      ],
      "metadata": {
        "id": "b0JNsNcRphqO"
      }
    },
    {
      "cell_type": "markdown",
      "source": [
        "Answer Here"
      ],
      "metadata": {
        "id": "xvSq8iUTphqO"
      }
    },
    {
      "cell_type": "markdown",
      "source": [
        "Yes, the insights obtained from this chart can positively impact the business.\n",
        "Menu Optimization By understanding which meal types are most popular, hotels can optimize their menu and resource allocation. They can ensure that the most frequently ordered meals are available and that the necessary ingredients are stocked accordingly."
      ],
      "metadata": {
        "id": "QDqpJZZNUg0w"
      }
    },
    {
      "cell_type": "markdown",
      "source": [
        "#### Chart - 8"
      ],
      "metadata": {
        "id": "BZR9WyysphqO"
      }
    },
    {
      "cell_type": "code",
      "source": [
        "# Chart - 8 visualization code\n",
        "# Parking Spaces Booking Based on Hotel\n",
        "plt.figure(figsize=(12, 6))\n",
        "sns.countplot(x='parking_spaces', data=df, hue='hotel')\n",
        "plt.title('Parking Spaces Booking Based on Hotel')\n",
        "plt.xlabel('Parking Spaces')\n",
        "plt.ylabel('Number of Bookings')\n",
        "plt.show()"
      ],
      "metadata": {
        "id": "TdPTWpAVphqO"
      },
      "execution_count": null,
      "outputs": []
    },
    {
      "cell_type": "markdown",
      "source": [
        "##### 1. Why did you pick the specific chart?"
      ],
      "metadata": {
        "id": "jj7wYXLtphqO"
      }
    },
    {
      "cell_type": "markdown",
      "source": [
        "Answer Here."
      ],
      "metadata": {
        "id": "Ob8u6rCTphqO"
      }
    },
    {
      "cell_type": "markdown",
      "source": [
        "I picked a countplot from the seaborn library because it's effective for visualizing the distribution of a categorical variable, in this case, the 'parking_spaces' feature. The hue parameter allows us to further segregate the counts based on the 'hotel' feature (Resort Hotel and City Hotel), providing valuable insights into parking preferences for each hotel type. This provides a clear overview of the number of bookings with different parking space requirements for each type of hotel.\n"
      ],
      "metadata": {
        "id": "QMK0jdMNSrPT"
      }
    },
    {
      "cell_type": "markdown",
      "source": [
        "##### 2. What is/are the insight(s) found from the chart?"
      ],
      "metadata": {
        "id": "eZrbJ2SmphqO"
      }
    },
    {
      "cell_type": "markdown",
      "source": [
        "Answer Here"
      ],
      "metadata": {
        "id": "mZtgC_hjphqO"
      }
    },
    {
      "cell_type": "markdown",
      "source": [
        "The insights that can be gathered from this chart include:\n",
        "\n",
        "**Hotel Preference for Parking:** If one hotel type consistently has a higher number of bookings with parking spaces, it suggests that customers choosing that hotel type are more likely to require parking facilities.\n",
        "\n",
        "**Parking Space Demand:**  The chart helps to identify the number of parking spaces most frequently booked for each hotel type."
      ],
      "metadata": {
        "id": "4YEAHR6iTBq3"
      }
    },
    {
      "cell_type": "markdown",
      "source": [
        "##### 3. Will the gained insights help creating a positive business impact?\n",
        "Are there any insights that lead to negative growth? Justify with specific reason."
      ],
      "metadata": {
        "id": "rFu4xreNphqO"
      }
    },
    {
      "cell_type": "markdown",
      "source": [
        "Answer Here"
      ],
      "metadata": {
        "id": "ey_0qi68phqO"
      }
    },
    {
      "cell_type": "markdown",
      "source": [
        "Yes, the gained insights can definitely help create a\n",
        "Better resource allocation. The insights can help the hotels better allocate their resources. For instance, if one hotel type has higher parking space demand, they can prioritize providing more parking spaces or optimizing the available parking lot to ensure customer satisfaction and reduce potential negative reviews or lost opportunities."
      ],
      "metadata": {
        "id": "24a8EAkeTp6L"
      }
    },
    {
      "cell_type": "markdown",
      "source": [
        "#### Chart - 9"
      ],
      "metadata": {
        "id": "YJ55k-q6phqO"
      }
    },
    {
      "cell_type": "code",
      "source": [
        "# Chart - 9 visualization code\n",
        "plt.rcParams['figure.figsize'] = [18, 5]\n",
        "k = df.groupby('hotel')['canceled'].sum()\n",
        "k.plot(kind = 'pie',autopct='%1.1f%%',shadow=True)\n",
        "plt.title('Booking Cancellation Based on Hotel')\n",
        "plt.show()"
      ],
      "metadata": {
        "id": "B2aS4O1ophqO"
      },
      "execution_count": null,
      "outputs": []
    },
    {
      "cell_type": "markdown",
      "source": [
        "##### 1. Why did you pick the specific chart?"
      ],
      "metadata": {
        "id": "gCFgpxoyphqP"
      }
    },
    {
      "cell_type": "markdown",
      "source": [
        "Answer Here."
      ],
      "metadata": {
        "id": "TVxDimi2phqP"
      }
    },
    {
      "cell_type": "markdown",
      "source": [
        "I chose a pie chart to visualize the booking cancellation based on hotel because it's effective in showing the proportion of cancellations for each hotel type (Resort Hotel and City Hotel) relative to the total cancellations. It allows for a quick comparison of cancellation rates between different hotels.\n"
      ],
      "metadata": {
        "id": "y_cN5RXLQ2QN"
      }
    },
    {
      "cell_type": "markdown",
      "source": [
        "##### 2. What is/are the insight(s) found from the chart?"
      ],
      "metadata": {
        "id": "OVtJsKN_phqQ"
      }
    },
    {
      "cell_type": "markdown",
      "source": [
        "Answer Here"
      ],
      "metadata": {
        "id": "ngGi97qjphqQ"
      }
    },
    {
      "cell_type": "markdown",
      "source": [
        "The chart indicates that a higher proportion of bookings are canceled for City Hotels compared to Resort Hotels. It indicates a higher cancellation rate for city hotels."
      ],
      "metadata": {
        "id": "K11GuT_gREMW"
      }
    },
    {
      "cell_type": "markdown",
      "source": [
        "##### 3. Will the gained insights help creating a positive business impact?\n",
        "Are there any insights that lead to negative growth? Justify with specific reason."
      ],
      "metadata": {
        "id": "lssrdh5qphqQ"
      }
    },
    {
      "cell_type": "markdown",
      "source": [
        "Answer Here"
      ],
      "metadata": {
        "id": "tBpY5ekJphqQ"
      }
    },
    {
      "cell_type": "markdown",
      "source": [
        "Yes, the insights from this chart can potentially lead to a positive business impact.By identifying that City Hotel has a higher cancellation rate, the business can investigate the underlying causes of these cancellations. They can implement targeted strategies to reduce cancellations in City Hotels, such as offering flexible booking policies, improving customer service, and offering attractive promotions.\n"
      ],
      "metadata": {
        "id": "M_1pAJ1iRV0K"
      }
    },
    {
      "cell_type": "markdown",
      "source": [
        "#### Chart - 10"
      ],
      "metadata": {
        "id": "U2RJ9gkRphqQ"
      }
    },
    {
      "cell_type": "code",
      "source": [
        "# Chart - 10 visualization code\n",
        "# Customer Type Based on Hotel\n",
        "plt.figure(figsize=(12, 6))\n",
        "sns.countplot(x='customer_type', data=df, hue='hotel')\n",
        "plt.title('Customer Type Based on Hotel')\n",
        "plt.xlabel('Customer Type')\n",
        "plt.ylabel('Number of Bookings')\n",
        "plt.show()"
      ],
      "metadata": {
        "id": "GM7a4YP4phqQ"
      },
      "execution_count": null,
      "outputs": []
    },
    {
      "cell_type": "markdown",
      "source": [
        "##### 1. Why did you pick the specific chart?"
      ],
      "metadata": {
        "id": "1M8mcRywphqQ"
      }
    },
    {
      "cell_type": "markdown",
      "source": [
        "Answer Here."
      ],
      "metadata": {
        "id": "8agQvks0phqQ"
      }
    },
    {
      "cell_type": "markdown",
      "source": [
        "I picked a countplot (bar chart) to visualize the relationship between customer type and the hotel. This chart effectively shows the distribution of customer types across both hotel types, allowing us to compare the booking numbers for each customer type in different hotels.\n"
      ],
      "metadata": {
        "id": "RKG1CPxVNmtm"
      }
    },
    {
      "cell_type": "markdown",
      "source": [
        "##### 2. What is/are the insight(s) found from the chart?"
      ],
      "metadata": {
        "id": "tgIPom80phqQ"
      }
    },
    {
      "cell_type": "markdown",
      "source": [
        "Answer Here"
      ],
      "metadata": {
        "id": "Qp13pnNzphqQ"
      }
    },
    {
      "cell_type": "markdown",
      "source": [
        "The chart gives us an insight into the proportion of each type of customer making bookings in the two hotels. It is possible that City Hotel attracts more business travelers and transient customers, while Resort Hotel draws in more leisure and group customers, or vice versa.\n"
      ],
      "metadata": {
        "id": "XP7tCBAFNrIA"
      }
    },
    {
      "cell_type": "markdown",
      "source": [
        "##### 3. Will the gained insights help creating a positive business impact?\n",
        "Are there any insights that lead to negative growth? Justify with specific reason."
      ],
      "metadata": {
        "id": "JMzcOPDDphqR"
      }
    },
    {
      "cell_type": "markdown",
      "source": [
        "Answer Here"
      ],
      "metadata": {
        "id": "R4Ka1PC2phqR"
      }
    },
    {
      "cell_type": "markdown",
      "source": [
        "Yes, the insights can be utilized to implement targeted marketing campaigns, optimize pricing strategies, or tailor hotel services that cater to the specific needs and preferences of each customer type."
      ],
      "metadata": {
        "id": "ZzY5aOfhNxuU"
      }
    },
    {
      "cell_type": "markdown",
      "source": [
        "#### Chart - 11"
      ],
      "metadata": {
        "id": "x-EpHcCOp1ci"
      }
    },
    {
      "cell_type": "code",
      "source": [
        "# Chart - 11 visualization code\n",
        "plt.figure(figsize=(10, 12))\n",
        "sns.boxplot(x='hotel', y='average_daily_rate', data=df, palette='coolwarm')\n",
        "plt.title('Booking Charges Based on Hotel Type')\n",
        "plt.xlabel('Hotel Type')\n",
        "plt.ylabel('Average Daily Rate')\n",
        "plt.show()"
      ],
      "metadata": {
        "id": "mAQTIvtqp1cj"
      },
      "execution_count": null,
      "outputs": []
    },
    {
      "cell_type": "markdown",
      "source": [
        "##### 1. Why did you pick the specific chart?"
      ],
      "metadata": {
        "id": "X_VqEhTip1ck"
      }
    },
    {
      "cell_type": "markdown",
      "source": [
        "Answer Here."
      ],
      "metadata": {
        "id": "-vsMzt_np1ck"
      }
    },
    {
      "cell_type": "markdown",
      "source": [
        " A box plot is used to visualize the distribution of numerical data and identify potential outliers. It provides a clear visual representation of the minimum, maximum, median and any outliers within a dataset."
      ],
      "metadata": {
        "id": "dafS2ijRU8XF"
      }
    },
    {
      "cell_type": "markdown",
      "source": [
        "##### 2. What is/are the insight(s) found from the chart?"
      ],
      "metadata": {
        "id": "8zGJKyg5p1ck"
      }
    },
    {
      "cell_type": "markdown",
      "source": [
        "Answer Here"
      ],
      "metadata": {
        "id": "ZYdMsrqVp1ck"
      }
    },
    {
      "cell_type": "markdown",
      "source": [
        "The box plot visualizes the central tendency and variability of the average daily rate for different hotel types.\n",
        "By comparing the median  for Resort hotels and City hotels, I can identify if one hotel type tends to have higher prices than the other.\n",
        "I can also observe the range of prices for each hotel type, which might provide insights into their price strategies."
      ],
      "metadata": {
        "id": "_eqomVRqVvRt"
      }
    },
    {
      "cell_type": "markdown",
      "source": [
        "##### 3. Will the gained insights help creating a positive business impact?\n",
        "Are there any insights that lead to negative growth? Justify with specific reason."
      ],
      "metadata": {
        "id": "PVzmfK_Ep1ck"
      }
    },
    {
      "cell_type": "markdown",
      "source": [
        "Understanding the distribution of Average Daily Rate by Hotel Type\n",
        " is important for pricing strategies, revenue management, and understanding how much hotels can charge.\n",
        "Analyzing outliers can provide insights into potential factors that influence pricing or suggest anomalies in the data."
      ],
      "metadata": {
        "id": "JV3PnRFHWAo-"
      }
    },
    {
      "cell_type": "markdown",
      "source": [
        "Answer Here"
      ],
      "metadata": {
        "id": "druuKYZpp1ck"
      }
    },
    {
      "cell_type": "markdown",
      "source": [
        "#### Chart - 12"
      ],
      "metadata": {
        "id": "n3dbpmDWp1ck"
      }
    },
    {
      "cell_type": "code",
      "source": [
        "# Chart - 12 visualization code\n",
        "plt.figure(figsize=(12, 6))\n",
        "sns.barplot(x='adults', y='average_daily_rate', data=df, hue='hotel')\n",
        "plt.title('Number of Adults vs Average Daily Rate')\n",
        "plt.xlabel('Number of Adults')\n",
        "plt.ylabel('Average Daily Rate')\n",
        "plt.show()"
      ],
      "metadata": {
        "id": "bwevp1tKp1ck"
      },
      "execution_count": null,
      "outputs": []
    },
    {
      "cell_type": "markdown",
      "source": [
        "##### 1. Why did you pick the specific chart?"
      ],
      "metadata": {
        "id": "ylSl6qgtp1ck"
      }
    },
    {
      "cell_type": "markdown",
      "source": [
        "Answer Here."
      ],
      "metadata": {
        "id": "m2xqNkiQp1ck"
      }
    },
    {
      "cell_type": "markdown",
      "source": [
        " Barplots are used to compare the counts or averages of different categories.They are suitable when you want to visualize the relationship between a categorical.In the provided code, barplots are used to compare the number of bookings or the average daily rate across different categories, like the hotel type"
      ],
      "metadata": {
        "id": "zhrmJPMYZoiS"
      }
    },
    {
      "cell_type": "markdown",
      "source": [
        "##### 2. What is/are the insight(s) found from the chart?"
      ],
      "metadata": {
        "id": "ZWILFDl5p1ck"
      }
    },
    {
      "cell_type": "markdown",
      "source": [
        "Answer Here"
      ],
      "metadata": {
        "id": "x-lUsV2mp1ck"
      }
    },
    {
      "cell_type": "markdown",
      "source": [
        "By comparing the average daily rate for different numbers of adults in Resort hotels and City hotels, we can identify any variations in pricing strategies based on occupancy."
      ],
      "metadata": {
        "id": "KV3RLtDnaI4U"
      }
    },
    {
      "cell_type": "markdown",
      "source": [
        "##### 3. Will the gained insights help creating a positive business impact?\n",
        "Are there any insights that lead to negative growth? Justify with specific reason."
      ],
      "metadata": {
        "id": "M7G43BXep1ck"
      }
    },
    {
      "cell_type": "markdown",
      "source": [
        "Answer Here"
      ],
      "metadata": {
        "id": "5wwDJXsLp1cl"
      }
    },
    {
      "cell_type": "markdown",
      "source": [
        "Yes, understanding the relationship between the number of adults and the average daily rate is useful"
      ],
      "metadata": {
        "id": "ZSbJt9J3adzw"
      }
    },
    {
      "cell_type": "markdown",
      "source": [
        "#### Chart - 13"
      ],
      "metadata": {
        "id": "Ag9LCva-p1cl"
      }
    },
    {
      "cell_type": "code",
      "source": [
        "# Chart - 13 visualization code\n",
        "plt.figure(figsize=(12, 6))\n",
        "sns.barplot(x='special_requests', y='average_daily_rate', data=df, hue='hotel')\n",
        "plt.title('Average Daily Rate vs Special Requests')\n",
        "plt.xlabel('Special Requests')\n",
        "plt.ylabel('Average Daily Rate')\n",
        "plt.show()"
      ],
      "metadata": {
        "id": "EUfxeq9-p1cl"
      },
      "execution_count": null,
      "outputs": []
    },
    {
      "cell_type": "markdown",
      "source": [
        "##### 1. Why did you pick the specific chart?"
      ],
      "metadata": {
        "id": "E6MkPsBcp1cl"
      }
    },
    {
      "cell_type": "markdown",
      "source": [
        "Answer Here."
      ],
      "metadata": {
        "id": "V22bRsFWp1cl"
      }
    },
    {
      "cell_type": "markdown",
      "source": [
        "A bar plot is used to visualize the relationship between a categorical variable ('special_requests') and a numerical variable ('average_daily_rate').It's also useful in comparing these relationships across different hotel types using the 'hue' parameter.\n"
      ],
      "metadata": {
        "id": "zMCht4xkM1Qf"
      }
    },
    {
      "cell_type": "markdown",
      "source": [
        "##### 2. What is/are the insight(s) found from the chart?"
      ],
      "metadata": {
        "id": "2cELzS2fp1cl"
      }
    },
    {
      "cell_type": "markdown",
      "source": [
        "Answer Here"
      ],
      "metadata": {
        "id": "ozQPc2_Ip1cl"
      }
    },
    {
      "cell_type": "markdown",
      "source": [
        "The bar plot reveals that the average daily rate might not have a strong relationship with the number of special requests. However, with further analysis and statistical tests, you could try to determine if there is a significant trend. It could be possible that hotels with more special requests tend to charge slightly higher average daily rates or vice versa.\n"
      ],
      "metadata": {
        "id": "qJtK3R0pNHrO"
      }
    },
    {
      "cell_type": "markdown",
      "source": [
        "##### 3. Will the gained insights help creating a positive business impact?\n",
        "Are there any insights that lead to negative growth? Justify with specific reason."
      ],
      "metadata": {
        "id": "3MPXvC8up1cl"
      }
    },
    {
      "cell_type": "markdown",
      "source": [
        "Answer Here"
      ],
      "metadata": {
        "id": "GL8l1tdLp1cl"
      }
    },
    {
      "cell_type": "markdown",
      "source": [
        "Yes, understanding the relationship between special requests and the average daily rate can help hotels optimize their pricing strategies."
      ],
      "metadata": {
        "id": "bR7063-BNOMl"
      }
    },
    {
      "cell_type": "markdown",
      "source": [
        "#### Chart - 14 - Correlation Heatmap"
      ],
      "metadata": {
        "id": "NC_X3p0fY2L0"
      }
    },
    {
      "cell_type": "code",
      "source": [
        "# Correlation Heatmap visualization code\n",
        "correlation_matrix = df.select_dtypes(include=np.number).corr()\n",
        "plt.figure(figsize=(20, 12))\n",
        "sns.heatmap(correlation_matrix, annot=True, cmap='coolwarm', fmt=\".2f\")\n",
        "plt.title('Correlation Matrix')\n",
        "plt.show()"
      ],
      "metadata": {
        "id": "xyC9zolEZNRQ"
      },
      "execution_count": null,
      "outputs": []
    },
    {
      "cell_type": "markdown",
      "source": [
        "##### 1. Why did you pick the specific chart?"
      ],
      "metadata": {
        "id": "UV0SzAkaZNRQ"
      }
    },
    {
      "cell_type": "markdown",
      "source": [
        "Answer Here."
      ],
      "metadata": {
        "id": "DVPuT8LYZNRQ"
      }
    },
    {
      "cell_type": "markdown",
      "source": [
        " A correlation heatmap is used to visualize the correlation between different numerical variables within the dataset.\n"
      ],
      "metadata": {
        "id": "PjE1l5Y9L345"
      }
    },
    {
      "cell_type": "markdown",
      "source": [
        "##### 2. What is/are the insight(s) found from the chart?"
      ],
      "metadata": {
        "id": "YPEH6qLeZNRQ"
      }
    },
    {
      "cell_type": "markdown",
      "source": [
        "The heatmap shows how strongly different variables are related to each other. Positive correlations are represented by warmer colors, and negative correlations are represented by cooler colors. The intensity of the color indicates the strength of the correlation.\n"
      ],
      "metadata": {
        "id": "EUV6zWANL8t1"
      }
    },
    {
      "cell_type": "markdown",
      "source": [
        "Answer Here"
      ],
      "metadata": {
        "id": "bfSqtnDqZNRR"
      }
    },
    {
      "cell_type": "markdown",
      "source": [
        "Yes, understanding the correlations between variables can be very helpful for identifying potential business opportunities and risks.\n",
        "For example, it can help to identify which factors have the most impact on customer cancellations, or which variables are most strongly associated with customer satisfaction.\n"
      ],
      "metadata": {
        "id": "sd5BEJOPME-q"
      }
    },
    {
      "cell_type": "markdown",
      "source": [
        "#### Chart - 15 - Pair Plot"
      ],
      "metadata": {
        "id": "q29F0dvdveiT"
      }
    },
    {
      "cell_type": "code",
      "source": [
        "# Pair Plot visualization code\n",
        "plt.figure(figsize=(15, 30))\n",
        "sns.pairplot(df[['adults', 'average_daily_rate', 'hotel']], hue='hotel')\n",
        "plt.show()"
      ],
      "metadata": {
        "id": "o58-TEIhveiU"
      },
      "execution_count": null,
      "outputs": []
    },
    {
      "cell_type": "markdown",
      "source": [
        "##### 1. Why did you pick the specific chart?"
      ],
      "metadata": {
        "id": "EXh0U9oCveiU"
      }
    },
    {
      "cell_type": "markdown",
      "source": [
        "Answer Here."
      ],
      "metadata": {
        "id": "eMmPjTByveiU"
      }
    },
    {
      "cell_type": "markdown",
      "source": [
        "Pair plots are useful for visualizing the relationships between multiple variables in a dataset, especially when you want to identify potential correlations or patterns."
      ],
      "metadata": {
        "id": "irhcoFkIzGTM"
      }
    },
    {
      "cell_type": "markdown",
      "source": [
        "##### 2. What is/are the insight(s) found from the chart?"
      ],
      "metadata": {
        "id": "22aHeOlLveiV"
      }
    },
    {
      "cell_type": "markdown",
      "source": [
        "Answer Here"
      ],
      "metadata": {
        "id": "uPQ8RGwHveiV"
      }
    },
    {
      "cell_type": "markdown",
      "source": [
        "**Potential Insights from a Pair Plot:**\n",
        "\n",
        "1. **Correlation Identification:** The plot can reveal linear or non-linear relationships between variables. If two variables have a strong positive or negative correlation, you'll see a distinct pattern (e.g., a cluster of points along a diagonal line).\n",
        "\n",
        "2. **Variable Dependencies:** It helps identify which variables are dependent on each other, giving you insights into the potential underlying factors driving the business.\n",
        "\n",
        "3. **Outlier Detection:** The plot can reveal outliers in the data, which are data points that deviate significantly from the rest of the data.\n",
        "\n",
        "4. **Distribution Understanding:** The plots along the diagonal of a pair plot often show the distribution of individual variables, like histograms. This helps understand the range and spread of the data for each variable."
      ],
      "metadata": {
        "id": "Z_b_n41CgZQg"
      }
    },
    {
      "cell_type": "markdown",
      "source": [
        "## **5. Solution to Business Objective**"
      ],
      "metadata": {
        "id": "JcMwzZxoAimU"
      }
    },
    {
      "cell_type": "markdown",
      "source": [
        "#### What do you suggest the client to achieve Business Objective ?\n",
        "Explain Briefly."
      ],
      "metadata": {
        "id": "8G2x9gOozGDZ"
      }
    },
    {
      "cell_type": "markdown",
      "source": [
        "Answer Here."
      ],
      "metadata": {
        "id": "pASKb0qOza21"
      }
    },
    {
      "cell_type": "markdown",
      "source": [
        "\n",
        "# Based on the analysis, here are some solutions to the business objective:\n",
        "1. Improve Revenue:\n",
        "   - Increase prices during peak seasons (July and August) for both City and Resort Hotels as these months have high demand.\n",
        "   - Consider offering promotional packages during the off-season (November and January).\n",
        "   - Optimize pricing strategies by identifying the ideal price points for different customer types (e.g., Transient, Contract)\n",
        "2. Reduce Cancellation Rates:\n",
        "   - Implement measures to reduce cancellation rates in City Hotels as it has a higher cancellation rate than Resort Hotels.\n",
        "   - Offer flexible cancellation policies to encourage bookings and improve customer satisfaction.\n",
        "   - Consider incentives to retain customers and reduce cancellations.\n",
        "3. Improve Customer Experience:\n",
        "   - Develop strategies to improve customer satisfaction\n",
        "and enhance the overall experience.\n",
        " - Utilize feedback mechanisms to understand customer needs and address pain points.\n",
        " - Ensure optimal service delivery based on customer type, which can lead to greater customer satisfaction and loyalty."
      ],
      "metadata": {
        "id": "mRXcDKiM0hgF"
      }
    },
    {
      "cell_type": "markdown",
      "source": [],
      "metadata": {
        "id": "RLPKjKBtzgY4"
      }
    },
    {
      "cell_type": "markdown",
      "source": [
        "# **Conclusion**"
      ],
      "metadata": {
        "id": "gCX9965dhzqZ"
      }
    },
    {
      "cell_type": "markdown",
      "source": [
        "Write the conclusion here."
      ],
      "metadata": {
        "id": "Fjb1IsQkh3yE"
      }
    },
    {
      "cell_type": "markdown",
      "source": [
        "\n",
        "Based on the analysis, here are some key findings:\n",
        "- City hotels have a higher number of bookings compared to resort hotels.\n",
        "- The peak booking season is in July and August, with a slight decrease in September.\n",
        "- The average daily rate is higher for City hotels compared to resort hotels.\n",
        "- BB is the most frequent meal type for both hotel types.\n",
        "- Booking cancellation is more frequent in City hotels.\n",
        "- The average daily rate tends to be higher during weekends and holidays.\n",
        "\n",
        "Recommendations for the client:\n",
        "- Consider strategies to improve the occupancy rate for resort hotels, such as offering special packages for families or weekend stays or offering breakpast as complimentary.\n",
        "- Offer promotions and discounts during the months with fewer bookings to increase revenue.\n",
        "- Invest in marketing campaigns targeting customer segments identified with high average daily rates.\n",
        "- Optimize the price-setting strategies during peak seasons to maximize revenue and maintain booking rates.\n",
        "- Implement effective customer relationship management and service management to improve customer satisfaction and loyalty.\n",
        "- Improve the communication and handling of cancellations to reduce the number of cancellations."
      ],
      "metadata": {
        "id": "n4e1ae5U01h9"
      }
    },
    {
      "cell_type": "markdown",
      "source": [
        "### ***Hurrah! You have successfully completed your EDA Capstone Project !!!***"
      ],
      "metadata": {
        "id": "gIfDvo9L0UH2"
      }
    }
  ]
}